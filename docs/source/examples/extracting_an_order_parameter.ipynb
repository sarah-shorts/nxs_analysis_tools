{
 "cells": [
  {
   "cell_type": "markdown",
   "id": "3dde4660-ff22-45ad-ae50-250a76b2b52f",
   "metadata": {},
   "source": [
    "# Extracting an Order Parameter"
   ]
  },
  {
   "cell_type": "markdown",
   "id": "2a30d077-6174-40d9-b13e-cee2319596f1",
   "metadata": {},
   "source": [
    "When your system of interest undergoes a phase transition, it is helpful to track to the temperature dependence of the relevant features in the scattering data which provides a measure of the underlying order parameter. \n",
    "\n",
    "If you don't know where in your scattering dataset to look, machine learning tools like [XTEC](https://github.com/KimGroup/XTEC) can help cluster pixels into groups by their temperature trajectories, possibly revealing a phase transition in your dataset. \n",
    "\n",
    "For this example, we assume that we know where to look -- we have a phase transition involving the onset of half-integer reflections along _H_ below approximately _T_ = 50 K. "
   ]
  },
  {
   "cell_type": "markdown",
   "id": "8d89343b-ed6d-42dd-b081-588d657a3447",
   "metadata": {},
   "source": [
    "First, let's load in the datasets corresponding to the temperature-dependent scans on our pretend sample. For this, we use the `TempDependence` class from `nxs_analysis_tools.chess`. For more information on loading temperature-dependent scans, see [this example](https://nxs-analysis-tools.readthedocs.io/en/latest/examples/working_with_chess_data.html)."
   ]
  },
  {
   "cell_type": "code",
   "execution_count": null,
   "id": "74a54cbb-c826-43eb-b835-4d625373f801",
   "metadata": {
    "tags": []
   },
   "outputs": [],
   "source": [
    "from nxs_analysis_tools.chess import TempDependence\n",
    "\n",
    "# Create the TempDependence object\n",
    "xtl = TempDependence()\n",
    "# Set the sample directory (the directory holding the temperature folders)\n",
    "xtl.set_sample_directory('example_data/order_parameter/nxrefine/CsV3Sb5/sample_1b/')\n",
    "# Load the transforms (i.e., transformed datasets produced by nxrefine)\n",
    "xtl.load_transforms(print_tree=False)"
   ]
  },
  {
   "cell_type": "markdown",
   "id": "77d074ed-983e-4e85-be88-efff193f4704",
   "metadata": {},
   "source": [
    "Next, let's use the `plot_slice` function to examine the _HK_ plane of the highest temperature (_T_ = 300 K) and the lowest temperature (_T_ = 15 K)."
   ]
  },
  {
   "cell_type": "code",
   "execution_count": null,
   "id": "576f42a8-e538-4aba-aa01-f461f1d09d04",
   "metadata": {},
   "outputs": [],
   "source": [
    "from nxs_analysis_tools.datareduction import plot_slice\n",
    "\n",
    "plot_slice(xtl.datasets['300'][:,:,0.0], title='T = 300 K')\n",
    "plot_slice(xtl.datasets['15'][:,:,0.0], title='T = 15 K')"
   ]
  },
  {
   "cell_type": "markdown",
   "id": "c8b17e68-3353-41a6-8104-2caf34f15c99",
   "metadata": {},
   "source": [
    "Clearly, we have some weak half integer reflections along _H_ which are only present at low temperature."
   ]
  },
  {
   "cell_type": "markdown",
   "id": "f116ddfa-51d3-4a9a-b83f-13e8d70c334b",
   "metadata": {},
   "source": [
    "## Visualizing the phase transition"
   ]
  },
  {
   "cell_type": "markdown",
   "id": "1ad4beba-ba84-481e-9efe-1eb16fac1e00",
   "metadata": {},
   "source": [
    "As a first step to parameterizing this phase transition, we can perform a linecut ([learn more](https://nxs-analysis-tools.readthedocs.io/en/latest/examples/using_scissors.html)) that passes through the half-integer reflections."
   ]
  },
  {
   "cell_type": "code",
   "execution_count": null,
   "id": "c8109ff1-812f-4eff-a43c-a9776f3a33a5",
   "metadata": {},
   "outputs": [],
   "source": [
    "xtl.cut_data(center=(0.0,0.0,0.0), window=(1.5,0.2,0.2))\n",
    "xtl.plot_linecuts()"
   ]
  },
  {
   "cell_type": "markdown",
   "id": "a901712f-f314-40bc-a767-21e54be071f7",
   "metadata": {},
   "source": [
    "This plot of the linecut reveals the half integer peaks, but it's hard to tell at exactly what temperature they turn on... To better visualize this, we can plot the linecuts as a heatmap in reciprocal space at various temperatures using the `.plot_linecuts_heatmap()` method."
   ]
  },
  {
   "cell_type": "code",
   "execution_count": null,
   "id": "53972b95-ab4a-440d-b5a4-e3b90a2ebcb5",
   "metadata": {},
   "outputs": [],
   "source": [
    "xtl.plot_linecuts_heatmap(vmin=0, vmax=1.5e5)"
   ]
  },
  {
   "cell_type": "markdown",
   "id": "760afbaf-bfdd-4db1-8433-dd060f09904d",
   "metadata": {},
   "source": [
    "Here, it's easier to see that the half integer peaks turn on at about _T_ = 50 K, marking the phase transition temperature."
   ]
  },
  {
   "cell_type": "markdown",
   "id": "c4ae4a08-2008-4eae-a8d8-91a22f06a066",
   "metadata": {},
   "source": [
    "## Fitting an order parameter"
   ]
  },
  {
   "cell_type": "markdown",
   "id": "3f509b48-a01c-438c-a8d7-543e1a453b05",
   "metadata": {},
   "source": [
    "A more quantitative approach here is to combine this analysis with a fitting of the half-integer peaks, which will allow us to quantitatively track the order parameter by examining the temperature dependence of the peak parameters (_e.g._, peak height, peak width)."
   ]
  },
  {
   "cell_type": "markdown",
   "id": "00397eb4-f94f-4732-8699-9e983fda2c78",
   "metadata": {},
   "source": [
    "First, let's narrow our linecut to only include a single half-integer reflection of interest."
   ]
  },
  {
   "cell_type": "code",
   "execution_count": null,
   "id": "8748ffbd-1ee4-4988-beed-846cbb8eb4c1",
   "metadata": {},
   "outputs": [],
   "source": [
    "xtl.cut_data(center=(-0.5,0.0,0.0), window=(0.25,0.2,0.2))\n",
    "xtl.plot_linecuts()"
   ]
  },
  {
   "cell_type": "markdown",
   "id": "fffe8529-80b6-4edb-a53b-149d97a3fd6a",
   "metadata": {},
   "source": [
    "As above, we can also plot the heatmap version of the same plot, which allows us to clearly see the transition."
   ]
  },
  {
   "cell_type": "code",
   "execution_count": null,
   "id": "746f0c24-3207-4935-a2f2-17640724de21",
   "metadata": {},
   "outputs": [],
   "source": [
    "xtl.plot_linecuts_heatmap()"
   ]
  },
  {
   "cell_type": "markdown",
   "id": "456f1618-542f-4a12-9e42-9b9ceb380dfa",
   "metadata": {},
   "source": [
    "Next, we can use the fitting tools in `nxs_analysis_tools` to fit these peaks ([learn more](https://nxs-analysis-tools.readthedocs.io/en/latest/examples/fitting_chess_data.html))."
   ]
  },
  {
   "cell_type": "code",
   "execution_count": null,
   "id": "d727ac34-4ef7-4f6d-a6d8-173b0067be09",
   "metadata": {},
   "outputs": [],
   "source": [
    "from lmfit.models import GaussianModel, LinearModel\n",
    "\n",
    "# Set the model components for the peak and background\n",
    "xtl.set_model_components([GaussianModel(prefix='peak'), LinearModel(prefix='background')])\n",
    "\n",
    "# Initialize the parameters for the model\n",
    "xtl.make_params()\n",
    "\n",
    "# Perform an initial guess\n",
    "xtl.guess()\n",
    "\n",
    "# Add in some helpful constraints\n",
    "for T in xtl.temperatures:\n",
    "    # Constrain the peak center to fall between -0.6 and -0.4 along H\n",
    "    xtl.linecutmodels[T].params['peakcenter'].set(value=-0.5, min=-0.6, max=-0.4)\n",
    "    # Constrain the peak amplitude to positive values\n",
    "    xtl.linecutmodels[T].params['peakamplitude'].set(min=0)\n",
    "\n",
    "# Perform the fitting procedure\n",
    "xtl.fit()\n",
    "\n",
    "# Optional: view the resulting fits\n",
    "# xtl.plot_fit()"
   ]
  },
  {
   "cell_type": "markdown",
   "id": "3824646d-8213-4252-ab54-3d0614871194",
   "metadata": {},
   "source": [
    "Now that the fits have been completed, we can use the `.plot_order_parameter()` method to plot the temperature dependence of the `peakheight` parameter in the model, which gives us a good measure of the order parameter across the phase transition."
   ]
  },
  {
   "cell_type": "code",
   "execution_count": null,
   "id": "5c2bcf81-981f-49e9-9cfa-5099539e4f40",
   "metadata": {},
   "outputs": [],
   "source": [
    "xtl.plot_order_parameter()"
   ]
  }
 ],
 "metadata": {
  "kernelspec": {
   "display_name": "Python 3 (ipykernel)",
   "language": "python",
   "name": "python3"
  },
  "language_info": {
   "codemirror_mode": {
    "name": "ipython",
    "version": 3
   },
   "file_extension": ".py",
   "mimetype": "text/x-python",
   "name": "python",
   "nbconvert_exporter": "python",
   "pygments_lexer": "ipython3",
   "version": "3.11.3"
  }
 },
 "nbformat": 4,
 "nbformat_minor": 5
}
