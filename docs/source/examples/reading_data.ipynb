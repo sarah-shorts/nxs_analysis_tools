{
 "cells": [
  {
   "cell_type": "markdown",
   "metadata": {},
   "source": [
    "# Reading Data"
   ]
  },
  {
   "cell_type": "code",
   "execution_count": null,
   "metadata": {},
   "outputs": [],
   "source": [
    "from magentropy import MagentroData"
   ]
  },
  {
   "cell_type": "markdown",
   "metadata": {},
   "source": [
    "## Constructor\n",
    "\n",
    "Data must be read when a {{ MagentroData }} object is instantiated via the constructor. Supported\n",
    "input formats are Quantum Design `.dat` data files (default), delimited files, and {{ DataFrame }}s."
   ]
  },
  {
   "cell_type": "markdown",
   "metadata": {},
   "source": [
    "### QD data files\n",
    "\n",
    "The default arguments are configured for QD `.dat` files. These files are expected to consist of:\n",
    "\n",
    "1. A header section with metadata. In particular, the sample mass should be given as\n",
    "`INFO,<sample_mass>,SAMPLE_MASS`, where `<sample_mass>` is replaced by a decimal number.\n",
    "\n",
    "2. A `\\n[Data]\\n` tag separating the header section from the data. (Here, `\\n` indicates a newline.)\n",
    "\n",
    "3. The delimited data. The default separator is `','`.\n",
    "\n",
    "4. Data columns with names `'Comment'`, `'Temperature (K)'`, `'Magnetic Field (Oe)'`,\n",
    "`'Moment (emu)'`, and `'M. Std. Err. (emu)'`."
   ]
  },
  {
   "cell_type": "code",
   "execution_count": null,
   "metadata": {},
   "outputs": [],
   "source": [
    "magdata_dat = MagentroData('magdata.dat')"
   ]
  },
  {
   "cell_type": "markdown",
   "metadata": {},
   "source": [
    "```{tip}\n",
    "If the column names, delimiter, or sample mass format are different, these can be set manually as\n",
    "described [below](#delimited-files). The `**read_csv_kwargs` keyword arguments will also be applied\n",
    "to the delimited data in `.dat` files.\n",
    "```"
   ]
  },
  {
   "cell_type": "markdown",
   "metadata": {},
   "source": [
    "### Delimited files\n",
    "\n",
    "A delimited input file may be indicated by passing `qd_dat = False` to the constructor.\n",
    "Additionally, different column names can be specified, including the absence of a comment\n",
    "or error column. Here, the comment column is excluded."
   ]
  },
  {
   "cell_type": "code",
   "execution_count": null,
   "metadata": {},
   "outputs": [],
   "source": [
    "magdata_csv = MagentroData(\n",
    "    'magdata.csv', qd_dat=False,\n",
    "    comment_col=None, T='T', H='H', M='M', M_err='M_err'\n",
    ")"
   ]
  },
  {
   "cell_type": "markdown",
   "metadata": {},
   "source": [
    "Since the sample mass is not present in delimited files, it is set to the default of 1.0.\n",
    "This can be changed after instantiation (per-mass columns are updated accordingly):"
   ]
  },
  {
   "cell_type": "code",
   "execution_count": null,
   "metadata": {},
   "outputs": [],
   "source": [
    "print(magdata_csv.sample_mass)\n",
    "magdata_csv.sample_mass = 0.1\n",
    "print(magdata_csv.sample_mass)"
   ]
  },
  {
   "cell_type": "markdown",
   "metadata": {},
   "source": [
    "The mass can also be provided in the constructor itself:"
   ]
  },
  {
   "cell_type": "code",
   "execution_count": null,
   "metadata": {},
   "outputs": [],
   "source": [
    "magdata_csv = MagentroData(\n",
    "    'magdata.csv', qd_dat=False,\n",
    "    comment_col=None, T='T', H='H', M='M', M_err='M_err',\n",
    "    sample_mass=0.1\n",
    ")\n",
    "magdata_csv.sample_mass"
   ]
  },
  {
   "cell_type": "markdown",
   "metadata": {},
   "source": [
    "```{note}\n",
    "It is not strictly necessary to set `qd_dat = False`. The delimited data will be read correctly,\n",
    "though a warning will be printed, and of course the sample mass must still be set manually.\n",
    "```"
   ]
  },
  {
   "cell_type": "markdown",
   "metadata": {},
   "source": [
    "```{tip}\n",
    "Delimited data is read using {func}`pandas.read_csv`. Keyword arguments can be passed to\n",
    "{func}`pandas.read_csv` as additional keyword arguments to the constructor.\n",
    "For example, if the file is tab-delimited, `magdata_tab = MagentroData(..., sep='\\t')`.\n",
    "These will be ignored if the input is a {{ DataFrame }}, described in the [next section](#dataframes).\n",
    "```"
   ]
  },
  {
   "cell_type": "markdown",
   "metadata": {},
   "source": [
    "### DataFrames\n",
    "\n",
    "If data is in a {{ DataFrame }}, perhaps because preprocessing was required, the procedure\n",
    "is exactly the same as for [delimited files](#delimited-files). Here, we create a new\n",
    "{{ MagentroData }} instance using the raw data from `magdata_csv`:"
   ]
  },
  {
   "cell_type": "code",
   "execution_count": null,
   "metadata": {},
   "outputs": [],
   "source": [
    "magdata_df = MagentroData(\n",
    "    magdata_csv.raw_df,\n",
    "    comment_col=None, T='T', H='H', M='M', M_err='M_err',\n",
    "    sample_mass=0.1\n",
    ")"
   ]
  },
  {
   "cell_type": "markdown",
   "metadata": {},
   "source": [
    "The column labels and sample mass are specified as before. The `qd_dat` parameter is ignored\n",
    "because a {{ DataFrame }} is detected, so it need not be included."
   ]
  },
  {
   "cell_type": "markdown",
   "metadata": {},
   "source": [
    "## Missing values\n",
    "\n",
    "If a comment column label is supplied, any row in which the comment column has a non-`NaN` value is\n",
    "dropped. (i.e., rows with comments are removed, since comments in QD `.dat` output files indicate\n",
    "measurement problems.)\n",
    "\n",
    "Additionally, any row containing a missing value in the temperature, field, or moment column is\n",
    "dropped. If a moment error column is supplied, any row with a missing value or a value equal to\n",
    "zero in the error column will be dropped."
   ]
  },
  {
   "cell_type": "markdown",
   "metadata": {},
   "source": [
    "## Viewing data\n",
    "\n",
    "Raw, converted (SI units), and processed (smoothed) data is available through the\n",
    "attributes {{ raw_df }}, {{ converted_df }}, and {{ processed_df }}. For example:"
   ]
  },
  {
   "cell_type": "code",
   "execution_count": null,
   "metadata": {},
   "outputs": [],
   "source": [
    "magdata_dat.raw_df"
   ]
  },
  {
   "cell_type": "markdown",
   "metadata": {},
   "source": [
    "Each {{ DataFrame }} attribute contains columns corresponding to temperature, magnetic field strength,\n",
    "moment, moment error, moment per mass, moment per mass error, moment derivative with respect to\n",
    "temperature, and magnetic entropy.\n",
    "\n",
    "Units can be viewed as a second header level by appending `_with_units` to any of these attributes."
   ]
  },
  {
   "cell_type": "code",
   "execution_count": null,
   "metadata": {},
   "outputs": [],
   "source": [
    "magdata_dat.raw_df_with_units"
   ]
  },
  {
   "cell_type": "markdown",
   "metadata": {},
   "source": [
    "Similarly for sample mass:"
   ]
  },
  {
   "cell_type": "code",
   "execution_count": null,
   "metadata": {},
   "outputs": [],
   "source": [
    "magdata_dat.sample_mass"
   ]
  },
  {
   "cell_type": "code",
   "execution_count": null,
   "metadata": {},
   "outputs": [],
   "source": [
    "magdata_dat.sample_mass_with_units"
   ]
  },
  {
   "cell_type": "markdown",
   "metadata": {},
   "source": [
    "````{tip}\n",
    "All {{ DataFrame }} attributes are immutable and return copies of the internal instance attributes.\n",
    "If repeated access is required, for example to a {{ DataFrame }}'s columns, it is best to first save\n",
    "the {{ DataFrame }} as a local variable to avoid repeatedly copying large amounts of data.\n",
    "\n",
    "Don't do this:\n",
    "```python\n",
    "col_means = [magdata.raw_df['T'].mean(), magdata.raw_df['H'].mean(), magdata.raw_df['M'].mean()]\n",
    "```\n",
    "Instead, do this:\n",
    "```python\n",
    "raw_df = magdata.raw_df\n",
    "col_means = [raw_df['T'].mean(), raw_df['H'].mean(), raw_df['M'].mean()]\n",
    "```\n",
    "````"
   ]
  },
  {
   "cell_type": "markdown",
   "metadata": {},
   "source": [
    "## Simulating data\n",
    "\n",
    "The class method {{ sim_data }} can be used to generate data for testing and examples.\n",
    "A decreasing logistic function with a Gaussian \"bump\" whose center depends on the field strength\n",
    "is used to \"simulate\" noisy data. (There are quotation marks because the function has no\n",
    "physical significance.)\n",
    "\n",
    "The following code returns a {{ DataFrame }} with columns `'T'`, `'H'`, `'M'`, and `'M_err'`.\n",
    "This data is the same data found in the `magdata.dat` and `magdata.csv` files used in\n",
    "these examples."
   ]
  },
  {
   "cell_type": "code",
   "execution_count": null,
   "metadata": {},
   "outputs": [],
   "source": [
    "import numpy as np\n",
    "\n",
    "sim_df = MagentroData.sim_data(\n",
    "    temps=np.linspace(1., 100., 100),\n",
    "    fields=np.linspace(20., 100., 5),\n",
    "    sigma_m=5e-5,\n",
    "    random_seed=0\n",
    ")"
   ]
  },
  {
   "cell_type": "markdown",
   "metadata": {},
   "source": [
    "## Units and presets"
   ]
  },
  {
   "cell_type": "markdown",
   "metadata": {},
   "source": [
    "It is possible to set presets and units during instantiation.\n",
    "See {doc}`processing_data` and {doc}`units_and_conversions` for additional information."
   ]
  }
 ],
 "metadata": {
  "kernelspec": {
   "display_name": "Python 3.10.4 ('magentropy-dev')",
   "language": "python",
   "name": "python3"
  },
  "language_info": {
   "codemirror_mode": {
    "name": "ipython",
    "version": 3
   },
   "file_extension": ".py",
   "mimetype": "text/x-python",
   "name": "python",
   "nbconvert_exporter": "python",
   "pygments_lexer": "ipython3",
   "version": "3.10.4"
  },
  "orig_nbformat": 4,
  "vscode": {
   "interpreter": {
    "hash": "5ab78a24dcd5d2f912eb3dd8dff5c36262a9ffc4f386b5a71d4924d641a6e82d"
   }
  }
 },
 "nbformat": 4,
 "nbformat_minor": 2
}
