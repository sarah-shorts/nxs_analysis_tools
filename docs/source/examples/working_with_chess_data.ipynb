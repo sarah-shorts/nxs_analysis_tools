{
 "cells": [
  {
   "cell_type": "markdown",
   "id": "1a14076a-6335-4dd6-a033-f2463458a52c",
   "metadata": {},
   "source": [
    "# Working with CHESS data"
   ]
  },
  {
   "cell_type": "markdown",
   "id": "cf46ebac-e4ab-48a7-9d21-3c2f1e8fa193",
   "metadata": {},
   "source": [
    "## Import functions"
   ]
  },
  {
   "cell_type": "code",
   "execution_count": 4,
   "id": "f7022d7e-db12-4177-8aee-1baf157dc476",
   "metadata": {},
   "outputs": [],
   "source": [
    "import matplotlib.pyplot as plt\n",
    "from nxs_analysis_tools import TempDependence"
   ]
  },
  {
   "cell_type": "markdown",
   "id": "98a46ac0-923b-4607-86e7-6d9b0f3ccb64",
   "metadata": {},
   "source": [
    "## Intializing a `TempDependence` object"
   ]
  },
  {
   "cell_type": "markdown",
   "id": "4ac38648-9682-415d-9ee8-19c47e193827",
   "metadata": {},
   "source": [
    "It is assumed that the file structure of the temperature dependent scan is as follows:\n",
    " ```\n",
    "example_data\n",
    "└── sample_name\n",
    "    ├── 15\n",
    "    ├── 100\n",
    "    └── 300\n",
    "``` \n",
    "Here we create a `TempDependence` objecct called `sample` whose temperature folders are found in the path `'example_data/sample_name'`."
   ]
  },
  {
   "cell_type": "code",
   "execution_count": 2,
   "id": "48639e07-afaa-457d-abb0-b2c4a50145c0",
   "metadata": {},
   "outputs": [],
   "source": [
    "sample = TempDependence()"
   ]
  },
  {
   "cell_type": "markdown",
   "id": "6618909f-b02d-42f7-81fe-436a216188a7",
   "metadata": {},
   "source": [
    "Use the `load_datasets()` method to load the \".nxs\" files. By default, all files ending with \"hkli.nxs\" are imported, but this can be changed using the `file_ending` parameter."
   ]
  },
  {
   "cell_type": "code",
   "execution_count": 3,
   "id": "bd7772d3-469c-455a-9c79-653c54e6d517",
   "metadata": {},
   "outputs": [
    {
     "name": "stdout",
     "output_type": "stream",
     "text": [
      "Found temperature folders:\n",
      "[0] 15\n",
      "[1] 100\n",
      "[2] 300\n",
      "-----------------------------------------------\n",
      "Loading 15 K indexed .nxs files...\n",
      "Found example_data\\sample_name\\15\\example_hkli.nxs\n",
      "data:NXdata\n",
      "  @axes = ['H', 'K', 'L']\n",
      "  @signal = 'counts'\n",
      "  H = float64(100)\n",
      "  K = float64(150)\n",
      "  L = float64(200)\n",
      "  counts = float64(100x150x200)\n",
      "-----------------------------------------------\n",
      "Loading 100 K indexed .nxs files...\n",
      "Found example_data\\sample_name\\100\\example_hkli.nxs\n",
      "data:NXdata\n",
      "  @axes = ['H', 'K', 'L']\n",
      "  @signal = 'counts'\n",
      "  H = float64(100)\n",
      "  K = float64(150)\n",
      "  L = float64(200)\n",
      "  counts = float64(100x150x200)\n",
      "-----------------------------------------------\n",
      "Loading 300 K indexed .nxs files...\n",
      "Found example_data\\sample_name\\300\\example_hkli.nxs\n",
      "data:NXdata\n",
      "  @axes = ['H', 'K', 'L']\n",
      "  @signal = 'counts'\n",
      "  H = float64(100)\n",
      "  K = float64(150)\n",
      "  L = float64(200)\n",
      "  counts = float64(100x150x200)\n"
     ]
    },
    {
     "ename": "NameError",
     "evalue": "name 'Scissors' is not defined",
     "output_type": "error",
     "traceback": [
      "\u001b[1;31m---------------------------------------------------------------------------\u001b[0m",
      "\u001b[1;31mNameError\u001b[0m                                 Traceback (most recent call last)",
      "Cell \u001b[1;32mIn[3], line 1\u001b[0m\n\u001b[1;32m----> 1\u001b[0m sample\u001b[38;5;241m.\u001b[39mload_datasets(folder\u001b[38;5;241m=\u001b[39m\u001b[38;5;124m'\u001b[39m\u001b[38;5;124mexample_data/sample_name\u001b[39m\u001b[38;5;124m'\u001b[39m, file_ending\u001b[38;5;241m=\u001b[39m\u001b[38;5;124m\"\u001b[39m\u001b[38;5;124mhkli.nxs\u001b[39m\u001b[38;5;124m\"\u001b[39m)\n",
      "File \u001b[1;32m~\\miniconda3\\envs\\nxsenv\\Lib\\site-packages\\nxs_analysis_tools\\chess.py:87\u001b[0m, in \u001b[0;36mTempDependence.load_datasets\u001b[1;34m(self, folder, file_ending, temperatures_list)\u001b[0m\n\u001b[0;32m     84\u001b[0m             \u001b[38;5;28mprint\u001b[39m(\u001b[38;5;124m'\u001b[39m\u001b[38;5;124mFound \u001b[39m\u001b[38;5;124m'\u001b[39m \u001b[38;5;241m+\u001b[39m filepath)\n\u001b[0;32m     85\u001b[0m             \u001b[38;5;28mself\u001b[39m\u001b[38;5;241m.\u001b[39mdatasets[temperature] \u001b[38;5;241m=\u001b[39m load_data(filepath)\n\u001b[1;32m---> 87\u001b[0m \u001b[38;5;28mself\u001b[39m\u001b[38;5;241m.\u001b[39mscissors \u001b[38;5;241m=\u001b[39m [Scissors() \u001b[38;5;28;01mfor\u001b[39;00m _ \u001b[38;5;129;01min\u001b[39;00m \u001b[38;5;28mrange\u001b[39m(\u001b[38;5;28mlen\u001b[39m(\u001b[38;5;28mself\u001b[39m\u001b[38;5;241m.\u001b[39mdatasets))]\n\u001b[0;32m     89\u001b[0m \u001b[38;5;28;01mfor\u001b[39;00m i,dataset \u001b[38;5;129;01min\u001b[39;00m \u001b[38;5;28menumerate\u001b[39m(\u001b[38;5;28mself\u001b[39m\u001b[38;5;241m.\u001b[39mdatasets\u001b[38;5;241m.\u001b[39mvalues()):\n\u001b[0;32m     90\u001b[0m     \u001b[38;5;28mself\u001b[39m\u001b[38;5;241m.\u001b[39mscissors[i]\u001b[38;5;241m.\u001b[39mset_data(dataset)\n",
      "File \u001b[1;32m~\\miniconda3\\envs\\nxsenv\\Lib\\site-packages\\nxs_analysis_tools\\chess.py:87\u001b[0m, in \u001b[0;36m<listcomp>\u001b[1;34m(.0)\u001b[0m\n\u001b[0;32m     84\u001b[0m             \u001b[38;5;28mprint\u001b[39m(\u001b[38;5;124m'\u001b[39m\u001b[38;5;124mFound \u001b[39m\u001b[38;5;124m'\u001b[39m \u001b[38;5;241m+\u001b[39m filepath)\n\u001b[0;32m     85\u001b[0m             \u001b[38;5;28mself\u001b[39m\u001b[38;5;241m.\u001b[39mdatasets[temperature] \u001b[38;5;241m=\u001b[39m load_data(filepath)\n\u001b[1;32m---> 87\u001b[0m \u001b[38;5;28mself\u001b[39m\u001b[38;5;241m.\u001b[39mscissors \u001b[38;5;241m=\u001b[39m [Scissors() \u001b[38;5;28;01mfor\u001b[39;00m _ \u001b[38;5;129;01min\u001b[39;00m \u001b[38;5;28mrange\u001b[39m(\u001b[38;5;28mlen\u001b[39m(\u001b[38;5;28mself\u001b[39m\u001b[38;5;241m.\u001b[39mdatasets))]\n\u001b[0;32m     89\u001b[0m \u001b[38;5;28;01mfor\u001b[39;00m i,dataset \u001b[38;5;129;01min\u001b[39;00m \u001b[38;5;28menumerate\u001b[39m(\u001b[38;5;28mself\u001b[39m\u001b[38;5;241m.\u001b[39mdatasets\u001b[38;5;241m.\u001b[39mvalues()):\n\u001b[0;32m     90\u001b[0m     \u001b[38;5;28mself\u001b[39m\u001b[38;5;241m.\u001b[39mscissors[i]\u001b[38;5;241m.\u001b[39mset_data(dataset)\n",
      "\u001b[1;31mNameError\u001b[0m: name 'Scissors' is not defined"
     ]
    }
   ],
   "source": [
    "sample.load_datasets(folder='example_data/sample_name', file_ending=\"hkli.nxs\")"
   ]
  },
  {
   "cell_type": "markdown",
   "id": "d85c3a6b-ea12-437e-ae65-c6fdc029ff15",
   "metadata": {},
   "source": [
    "A subset of temperatures can be imported using the `temperatures_list` parameter. Temperatures can be listed here as numeric values (`[15,300]`) or as strings (`['15','300']`)."
   ]
  },
  {
   "cell_type": "code",
   "execution_count": null,
   "id": "a2c821d2-9ded-4d58-8acc-c8268d348c44",
   "metadata": {},
   "outputs": [],
   "source": [
    "sample.load_datasets(folder='example_data/sample_name', temperatures_list=[15,300])"
   ]
  },
  {
   "cell_type": "markdown",
   "id": "23eee298-bafb-4118-94a3-c1cbf164110e",
   "metadata": {},
   "source": [
    "## Accessing the datasets at each temperature"
   ]
  },
  {
   "cell_type": "code",
   "execution_count": null,
   "id": "6422a105-05e5-4e2c-b19a-afe6f7eef3ff",
   "metadata": {},
   "outputs": [],
   "source": [
    "sample.load_datasets(folder='example_data/sample_name')"
   ]
  },
  {
   "cell_type": "markdown",
   "id": "5e387982-7e34-4015-8082-546255aa0a28",
   "metadata": {},
   "source": [
    "The datasets are stored under the `.datasets` attribute of the `TempDependence` object."
   ]
  },
  {
   "cell_type": "code",
   "execution_count": null,
   "id": "6370b1b3-babb-4c45-af57-25f2f55b5fc6",
   "metadata": {},
   "outputs": [],
   "source": [
    "sample.datasets"
   ]
  },
  {
   "cell_type": "markdown",
   "id": "66ea1918-a6be-440a-83b9-aeb241ec19e2",
   "metadata": {},
   "source": [
    "Use square brackets to index the individual datasets in the `NXentry`. Each dataset is a `NXdata` object and possesses the corresponding attributes and methods."
   ]
  },
  {
   "cell_type": "code",
   "execution_count": null,
   "id": "637a7dac-e938-43db-ba1d-c226ad50ceca",
   "metadata": {},
   "outputs": [],
   "source": [
    "sample.datasets['15']"
   ]
  },
  {
   "cell_type": "markdown",
   "id": "15849241-f3a3-4e82-b631-7c1bcb9f53cb",
   "metadata": {},
   "source": [
    "For example, each `NXdata` object has a `.plot()` method. Here we plot the L=0.0 plane."
   ]
  },
  {
   "cell_type": "code",
   "execution_count": null,
   "id": "6cb2783e-1518-458f-b064-c8d2f739b83e",
   "metadata": {},
   "outputs": [],
   "source": [
    "sample.datasets['15'][:,:,0.0].plot()"
   ]
  },
  {
   "cell_type": "markdown",
   "id": "047e6c48-ef20-4aa6-9eec-4f0732297d67",
   "metadata": {},
   "source": [
    "A list of temperatures is then stored in the `.temperatures` attribute of the `TempDependence` object."
   ]
  },
  {
   "cell_type": "code",
   "execution_count": null,
   "id": "44ad8ead-5d67-4cd2-90fb-46643c53f65b",
   "metadata": {},
   "outputs": [],
   "source": [
    "sample.temperatures"
   ]
  },
  {
   "cell_type": "markdown",
   "id": "bf618fcb-399b-4f29-8125-d1db0446d868",
   "metadata": {},
   "source": [
    "## Temperature dependent linecuts"
   ]
  },
  {
   "cell_type": "code",
   "execution_count": null,
   "id": "11f007ff-4989-4e29-a22e-c85fa198f0fe",
   "metadata": {},
   "outputs": [],
   "source": [
    "sample.cut_data(center=(0,0,0), window=(0.1,0.1,1))"
   ]
  },
  {
   "cell_type": "code",
   "execution_count": null,
   "id": "ac4b69bd-ad7d-4028-9a1a-54a10b81f155",
   "metadata": {},
   "outputs": [],
   "source": [
    "sample.plot_linecuts()"
   ]
  },
  {
   "cell_type": "markdown",
   "id": "e24a3e34-d5db-4521-9f82-0099cd63bb68",
   "metadata": {},
   "source": [
    "Any keyword arguments are passed to a `matplotlib` function `ax.plot()` within `.plot_linecuts()`, so the usual `matplotlib` parameters can be used to change the formatting."
   ]
  },
  {
   "cell_type": "code",
   "execution_count": null,
   "id": "90dd3136-eeaf-4b44-87f6-d5109ad48b5b",
   "metadata": {},
   "outputs": [],
   "source": [
    "sample.plot_linecuts(linestyle='-', marker='.')\n",
    "plt.show()"
   ]
  },
  {
   "cell_type": "markdown",
   "id": "77626ba9-e821-4124-b2e6-b427c99497fc",
   "metadata": {},
   "source": [
    "You can also introduce a vertical offset using the `vertical_offset` parameter."
   ]
  },
  {
   "cell_type": "code",
   "execution_count": null,
   "id": "85863bdd-2022-4405-b6f1-a1982addc1cd",
   "metadata": {},
   "outputs": [],
   "source": [
    "sample.plot_linecuts(vertical_offset=500)"
   ]
  },
  {
   "cell_type": "code",
   "execution_count": null,
   "id": "d3096c88-af21-40a9-81c9-2465eb2df02c",
   "metadata": {},
   "outputs": [],
   "source": [
    "sample.show_integration_window()"
   ]
  }
 ],
 "metadata": {
  "kernelspec": {
   "display_name": "Python 3 (ipykernel)",
   "language": "python",
   "name": "python3"
  },
  "language_info": {
   "codemirror_mode": {
    "name": "ipython",
    "version": 3
   },
   "file_extension": ".py",
   "mimetype": "text/x-python",
   "name": "python",
   "nbconvert_exporter": "python",
   "pygments_lexer": "ipython3",
   "version": "3.11.3"
  }
 },
 "nbformat": 4,
 "nbformat_minor": 5
}
