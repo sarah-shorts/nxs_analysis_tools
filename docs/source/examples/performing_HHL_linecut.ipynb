{
 "cells": [
  {
   "cell_type": "markdown",
   "id": "f59d98ee-2367-45ff-802c-2a36b3763fec",
   "metadata": {},
   "source": [
    "# Performing a linecut in an arbitrary direction"
   ]
  },
  {
   "cell_type": "markdown",
   "id": "b3b6d27a-7368-4bbe-b498-94a1a5574657",
   "metadata": {},
   "source": [
    "When performing a linecut which is along an arbitrary direction (_i.e._, not along one of the principal H, K, or L axes), we must reorient part or all of the data using the `rotate_data()` function. This is because we perform the linecuts by binning pixels along the principal axes of the `np.array` which holds the scattering data, which typically correspond to the H, K, and L axes of reciprocal space. By rotating the data, we can bring the reciprocal space direction of interest to align with the principal axes of the array, simplifying the steps to obtain the resulting linecut."
   ]
  },
  {
   "cell_type": "markdown",
   "id": "c6d13891-b490-4e99-91cf-6c7463a6e055",
   "metadata": {},
   "source": []
  }
 ],
 "metadata": {
  "kernelspec": {
   "display_name": "Python 3 (ipykernel)",
   "language": "python",
   "name": "python3"
  },
  "language_info": {
   "codemirror_mode": {
    "name": "ipython",
    "version": 3
   },
   "file_extension": ".py",
   "mimetype": "text/x-python",
   "name": "python",
   "nbconvert_exporter": "python",
   "pygments_lexer": "ipython3",
   "version": "3.11.3"
  }
 },
 "nbformat": 4,
 "nbformat_minor": 5
}
