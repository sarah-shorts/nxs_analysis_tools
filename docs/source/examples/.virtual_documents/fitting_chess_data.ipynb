





from nxs_analysis_tools.datareduction import load_data, Scissors
from nxs_analysis_tools.chess import *

from lmfit.models import GaussianModel, LinearModel





sample = TempDependence()


sample.set_sample_directory('example_data/sample_name')


sample.load_datasets()





sample.cut_data(center=(0,0,0), window=(0.1,0.5,0.1))








sample.linecutmodels








sample.set_model_components([GaussianModel(prefix='peak'), LinearModel(prefix='background')])








sample.set_param_hint('peakcenter', min=-0.1, max=0.1)








sample.linecutmodels['300'].set_param_hint('peaksigma', min=-1, max=1)





sample.make_params()








sample.guess()





sample.print_initial_params()





sample.linecutmodels['15'].params





sample.plot_initial_guess()





sample.fit()








sample.plot_fit(mdheadings=True)








sample.linecutmodels['15'].x


sample.linecutmodels['15'].y_fit





sample.linecutmodels['15'].modelresult.residual








sample.print_fit_report()








sample.linecutmodels['15'].print_fit_report()



