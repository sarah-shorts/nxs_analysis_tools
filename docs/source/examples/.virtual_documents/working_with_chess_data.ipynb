








import matplotlib.pyplot as plt
from nxs_analysis_tools import TempDependence








sample = TempDependence()








sample.set_sample_directory('example_data/sample_name')











sample.load_transforms()








sample.load_datasets(file_ending="hkli.nxs")





sample.load_datasets(temperatures_list=[15,300])








sample.datasets





sample.datasets['15']





sample.temperatures








sample.datasets['15'][:,:,0.0].plot()








sample.scissors





sample.scissors['15']





sample.cut_data(center=(0,0,0), window=(0.1,1,0.1))





sample.plot_linecuts()





sample.plot_linecuts(linestyle='-', marker='.')





sample.plot_linecuts(vertical_offset=500)








sample.scissors['15'].highlight_integration_window()





sample.scissors['15'].plot_integration_window()
