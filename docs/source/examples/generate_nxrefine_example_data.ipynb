{
 "cells": [
  {
   "cell_type": "code",
   "execution_count": 10,
   "id": "538d38e2-ed81-49b4-a173-63c7fa320d75",
   "metadata": {},
   "outputs": [
    {
     "name": "stdout",
     "output_type": "stream",
     "text": [
      "data:NXdata\n",
      "  @axes = ['H', 'K', 'L']\n",
      "  @signal = 'counts'\n",
      "  H = float64(100)\n",
      "  K = float64(150)\n",
      "  L = float64(200)\n",
      "  counts = float64(100x150x200)\n",
      "data:NXdata\n",
      "  @signal = 'v'\n",
      "  v = float64(200x150x100)\n",
      "data:NXdata\n",
      "  @axes = ['H', 'K', 'L']\n",
      "  @signal = 'counts'\n",
      "  H = float64(100)\n",
      "  K = float64(150)\n",
      "  L = float64(200)\n",
      "  counts = float64(100x150x200)\n",
      "data:NXdata\n",
      "  @signal = 'v'\n",
      "  v = float64(200x150x100)\n",
      "data:NXdata\n",
      "  @axes = ['H', 'K', 'L']\n",
      "  @signal = 'counts'\n",
      "  H = float64(100)\n",
      "  K = float64(150)\n",
      "  L = float64(200)\n",
      "  counts = float64(100x150x200)\n",
      "data:NXdata\n",
      "  @signal = 'v'\n",
      "  v = float64(200x150x100)\n"
     ]
    }
   ],
   "source": [
    "from nxs_analysis_tools import *\n",
    "from nexusformat.nexus import *\n",
    "\n",
    "data = load_data('example_data/sample_name/15/example_hkli.nxs')\n",
    "raw_data = data.counts.nxdata\n",
    "out_data = NXdata(NXfield(raw_data.transpose(2,1,0), name='v'))\n",
    "nxsave('example_data/nxrefine/CsV3Sb5/sample_1a/15/transform.nxs', out_data)\n",
    "re_read_data = load_data('example_data/nxrefine/CsV3Sb5/sample_1a/15/transform.nxs')\n",
    "\n",
    "data = load_data('example_data/sample_name/100/example_hkli.nxs')\n",
    "raw_data = data.counts.nxdata\n",
    "out_data = NXdata(NXfield(raw_data.transpose(2,1,0), name='v'))\n",
    "nxsave('example_data/nxrefine/CsV3Sb5/sample_1a/100/transform.nxs', out_data)\n",
    "re_read_data = load_data('example_data/nxrefine/CsV3Sb5/sample_1a/100/transform.nxs')\n",
    "\n",
    "data = load_data('example_data/sample_name/300/example_hkli.nxs')\n",
    "raw_data = data.counts.nxdata\n",
    "out_data = NXdata(NXfield(raw_data.transpose(2,1,0), name='v'))\n",
    "nxsave('example_data/nxrefine/CsV3Sb5/sample_1a/300/transform.nxs', out_data)\n",
    "re_read_data = load_data('example_data/nxrefine/CsV3Sb5/sample_1a/300/transform.nxs')"
   ]
  },
  {
   "cell_type": "code",
   "execution_count": 22,
   "id": "946ad3d0-9da4-427c-b813-9e38cafd06b0",
   "metadata": {},
   "outputs": [
    {
     "name": "stdout",
     "output_type": "stream",
     "text": [
      "root:NXroot\n",
      "  entry:NXentry\n",
      "    transform:NXdata\n",
      "      @angles = [90. 90. 90.]\n",
      "      @axes = ['Ql', 'Qk', 'Qh']\n",
      "      @signal = 'data'\n",
      "      Qh = float64(100)\n",
      "      Qk = float64(150)\n",
      "      Ql = float64(200)\n",
      "      data -> 15/transform.nxs['/entry/data/v']\n",
      "      title = '15.000K Transform'\n"
     ]
    }
   ],
   "source": [
    "main_file = NXroot()\n",
    "main_file['entry'] = NXentry()\n",
    "newH = NXfield(data.nxaxes[0].nxdata, name='Qh')\n",
    "newK = NXfield(data.nxaxes[1].nxdata, name='Qk')\n",
    "newL = NXfield(data.nxaxes[2].nxdata, name='Ql')\n",
    "# main_file['entry']['transform'] = NXdata(data=NXlink('/15/transform.nxs[\\'/entry/data/v\\']'), axes=(newL,newK,newH))\n",
    "main_file['entry']['transform'] = NXdata(NXlink(name='data',\n",
    "                                           target='/entry/data/v',\n",
    "                                           file='15/transform.nxs'), [newL, newK, newH])\n",
    "main_file.entry.transform.attrs['angles'] = [90.,90.,90.]\n",
    "main_file.entry.transform.attrs['signal'] = 'data'\n",
    "main_file.entry.transform['title'] = '15.000K Transform'\n",
    "print(main_file.tree)\n",
    "nxsave('example_data/nxrefine/CsV3Sb5/sample_1a/CsV3Sb5_15.nxs', main_file)"
   ]
  },
  {
   "cell_type": "code",
   "execution_count": 23,
   "id": "6a61d263-2f2e-4271-a33a-136e13049488",
   "metadata": {},
   "outputs": [
    {
     "name": "stdout",
     "output_type": "stream",
     "text": [
      "root:NXroot\n",
      "  entry:NXentry\n",
      "    transform:NXdata\n",
      "      @angles = [90. 90. 90.]\n",
      "      @axes = ['Ql', 'Qk', 'Qh']\n",
      "      @signal = 'data'\n",
      "      Qh = float64(100)\n",
      "      Qk = float64(150)\n",
      "      Ql = float64(200)\n",
      "      data -> 100/transform.nxs['/entry/data/v']\n",
      "      title = '100.000K Transform'\n"
     ]
    }
   ],
   "source": [
    "main_file = NXroot()\n",
    "main_file['entry'] = NXentry()\n",
    "newH = NXfield(data.nxaxes[0].nxdata, name='Qh')\n",
    "newK = NXfield(data.nxaxes[1].nxdata, name='Qk')\n",
    "newL = NXfield(data.nxaxes[2].nxdata, name='Ql')\n",
    "# main_file['entry']['transform'] = NXdata(data=NXlink('/100/transform.nxs[\\'/entry/data/v\\']'), axes=(newL,newK,newH))\n",
    "main_file['entry']['transform'] = NXdata(NXlink(name='data',\n",
    "                                           target='/entry/data/v',\n",
    "                                           file='100/transform.nxs'), [newL, newK, newH])\n",
    "main_file.entry.transform.attrs['angles'] = [90.,90.,90.]\n",
    "main_file.entry.transform.attrs['signal'] = 'data'\n",
    "main_file.entry.transform['title'] = '100.000K Transform'\n",
    "print(main_file.tree)\n",
    "nxsave('example_data/nxrefine/CsV3Sb5/sample_1a/CsV3Sb5_100.nxs', main_file)"
   ]
  },
  {
   "cell_type": "code",
   "execution_count": 24,
   "id": "59fb242b-88db-4031-b17a-5e0ecad1ccab",
   "metadata": {},
   "outputs": [
    {
     "name": "stdout",
     "output_type": "stream",
     "text": [
      "root:NXroot\n",
      "  entry:NXentry\n",
      "    transform:NXdata\n",
      "      @angles = [90. 90. 90.]\n",
      "      @axes = ['Ql', 'Qk', 'Qh']\n",
      "      @signal = 'data'\n",
      "      Qh = float64(100)\n",
      "      Qk = float64(150)\n",
      "      Ql = float64(200)\n",
      "      data -> 300/transform.nxs['/entry/data/v']\n",
      "      title = '300.000K Transform'\n"
     ]
    }
   ],
   "source": [
    "main_file = NXroot()\n",
    "main_file['entry'] = NXentry()\n",
    "newH = NXfield(data.nxaxes[0].nxdata, name='Qh')\n",
    "newK = NXfield(data.nxaxes[1].nxdata, name='Qk')\n",
    "newL = NXfield(data.nxaxes[2].nxdata, name='Ql')\n",
    "# main_file['entry']['transform'] = NXdata(data=NXlink('/300/transform.nxs[\\'/entry/data/v\\']'), axes=(newL,newK,newH))\n",
    "main_file['entry']['transform'] = NXdata(NXlink(name='data',\n",
    "                                           target='/entry/data/v',\n",
    "                                           file='300/transform.nxs'), [newL, newK, newH])\n",
    "main_file.entry.transform.attrs['angles'] = [90.,90.,90.]\n",
    "main_file.entry.transform.attrs['signal'] = 'data'\n",
    "main_file.entry.transform['title'] = '300.000K Transform'\n",
    "print(main_file.tree)\n",
    "nxsave('example_data/nxrefine/CsV3Sb5/sample_1a/CsV3Sb5_300.nxs', main_file)"
   ]
  },
  {
   "cell_type": "code",
   "execution_count": 25,
   "id": "aec89b42-3a46-411a-aa79-79631b7c8c2e",
   "metadata": {},
   "outputs": [
    {
     "name": "stdout",
     "output_type": "stream",
     "text": [
      "transform:NXdata\n",
      "  @angles = [90. 90. 90.]\n",
      "  @axes = ['Ql', 'Qk', 'Qh']\n",
      "  @signal = 'data'\n",
      "  Qh = float64(100)\n",
      "  Qk = float64(150)\n",
      "  Ql = float64(200)\n",
      "  data -> 15/transform.nxs['/entry/data/v']\n",
      "  title = '15.000K Transform'\n"
     ]
    }
   ],
   "source": [
    "dat = nxload('example_data/nxrefine/CsV3Sb5/sample_1a/CsV3Sb5_15.nxs')\n",
    "print(dat.entry.transform.tree)"
   ]
  },
  {
   "cell_type": "code",
   "execution_count": 31,
   "id": "9801b292-104c-4f68-8dbb-b6c520d443a2",
   "metadata": {},
   "outputs": [
    {
     "name": "stdout",
     "output_type": "stream",
     "text": [
      "transform:NXdata\n",
      "  @angles = [90. 90. 90.]\n",
      "  @axes = ['Ql', 'Qk', 'Qh']\n",
      "  @signal = 'data'\n",
      "  Qh = float64(100)\n",
      "  Qk = float64(150)\n",
      "  Ql = float64(200)\n",
      "  data -> 15/transform.nxs['/entry/data/v']\n",
      "  title = '15.000K Transform'\n"
     ]
    }
   ],
   "source": [
    "print(dat.entry.transform.tree)"
   ]
  },
  {
   "cell_type": "code",
   "execution_count": 32,
   "id": "bed44ff9-c4a7-447e-b579-261894cf77c6",
   "metadata": {},
   "outputs": [],
   "source": [
    "dat = load_transform('example_data/nxrefine/CsV3Sb5/sample_1a/CsV3Sb5_15.nxs')"
   ]
  },
  {
   "cell_type": "code",
   "execution_count": 36,
   "id": "ff7e6620-7fc3-4c5e-8a08-5d6e3c1469c2",
   "metadata": {},
   "outputs": [
    {
     "data": {
      "text/plain": [
       "<matplotlib.collections.QuadMesh at 0x24510a8fa50>"
      ]
     },
     "execution_count": 36,
     "metadata": {},
     "output_type": "execute_result"
    },
    {
     "data": {
      "image/png": "[encoded data removed]",
      "text/plain": [
       "<Figure size 640x480 with 2 Axes>"
      ]
     },
     "metadata": {},
     "output_type": "display_data"
    }
   ],
   "source": [
    "plot_slice(dat[:,:,0.0])"
   ]
  },
  {
   "cell_type": "code",
   "execution_count": null,
   "id": "7f7a5954-fc36-41b0-878e-28d519e7aedd",
   "metadata": {},
   "outputs": [],
   "source": []
  }
 ],
 "metadata": {
  "kernelspec": {
   "display_name": "Python 3 (ipykernel)",
   "language": "python",
   "name": "python3"
  },
  "language_info": {
   "codemirror_mode": {
    "name": "ipython",
    "version": 3
   },
   "file_extension": ".py",
   "mimetype": "text/x-python",
   "name": "python",
   "nbconvert_exporter": "python",
   "pygments_lexer": "ipython3",
   "version": "3.11.3"
  }
 },
 "nbformat": 4,
 "nbformat_minor": 5
}
