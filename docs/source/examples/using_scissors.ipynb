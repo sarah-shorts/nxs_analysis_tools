{
 "cells": [
  {
   "cell_type": "markdown",
   "id": "a273d78a-7de9-40f3-b843-d31bd882373f",
   "metadata": {},
   "source": [
    "# Using the `Scissors()` class"
   ]
  },
  {
   "cell_type": "markdown",
   "id": "b38a5276-7dd8-4a9e-950d-f2e2788b76b4",
   "metadata": {},
   "source": [
    "## Importing the `Scissors()` class"
   ]
  },
  {
   "cell_type": "code",
   "execution_count": 1,
   "id": "cb729202-9dd4-4987-8b95-c8913425da92",
   "metadata": {},
   "outputs": [],
   "source": [
    "from nxs_analysis_tools import Scissors\n",
    "from nexusformat.nexus import NXdata, NXfield\n",
    "import numpy as np"
   ]
  },
  {
   "cell_type": "markdown",
   "id": "4303056d-2ff9-4561-89c0-317f424c1aef",
   "metadata": {},
   "source": [
    "## Creating a test dataset"
   ]
  },
  {
   "cell_type": "code",
   "execution_count": 2,
   "id": "43b8406b",
   "metadata": {},
   "outputs": [],
   "source": [
    "# Create an array\n",
    "array_size = (100, 150, 200)\n",
    "array = np.zeros(array_size)\n",
    "\n",
    "# Create coordinates for each point in the array\n",
    "x, y, z = np.meshgrid(np.linspace(0, 1, array_size[0]),\n",
    "                      np.linspace(0, 1, array_size[1]),\n",
    "                      np.linspace(0, 1, array_size[2]),\n",
    "                      indexing='ij')\n",
    "\n",
    "# Create a 3x3x3 grid of evenly spaced Gaussians\n",
    "grid_size = (3, 3, 3)\n",
    "grid_center = (0, 0, 0)\n",
    "std_dev = 0.1\n",
    "\n",
    "for i in range(grid_size[0]):\n",
    "    for j in range(grid_size[1]):\n",
    "        for k in range(grid_size[2]):\n",
    "            mean = ((i / (grid_size[0] - 1)),\n",
    "                    (j / (grid_size[1] - 1)),\n",
    "                    (k / (grid_size[2] - 1)))\n",
    "            gaussian = np.exp(-((x - grid_center[0] - mean[0]) ** 2 +\n",
    "                                (y - grid_center[1] - mean[1]) ** 2 +\n",
    "                                (z - grid_center[2] - mean[2]) ** 2) / (2 * std_dev ** 2))\n",
    "            array += gaussian\n",
    "\n",
    "# Normalize the array\n",
    "array /= np.max(array)\n",
    "\n",
    "H=NXfield(np.linspace(-1,1,array.shape[0]), name='H')\n",
    "K=NXfield(np.linspace(-1,1,array.shape[1]), name='K')\n",
    "L=NXfield(np.linspace(-1,1,array.shape[2]), name='L')\n",
    "data = NXdata(NXfield(array, name='counts'), (H, K, L))"
   ]
  },
  {
   "cell_type": "markdown",
   "id": "a54decb0-e288-4b27-a9b4-e794600c8778",
   "metadata": {},
   "source": [
    "## Setting up a linecut - Method 1"
   ]
  },
  {
   "cell_type": "markdown",
   "id": "177f2b3b-2998-4216-b2dd-dca16f8f6a3c",
   "metadata": {},
   "source": [
    "You can set the data, linecut center, integration window, and integration axis when you initialize the `Scissors` object."
   ]
  },
  {
   "cell_type": "code",
   "execution_count": 3,
   "id": "4ad48507-ca73-4652-a189-53977f7ac36e",
   "metadata": {},
   "outputs": [],
   "source": [
    "scissors = Scissors(data, center=(1,1,-6), window=(0.2,0.2,2), axis=None)"
   ]
  },
  {
   "cell_type": "markdown",
   "id": "3e5597a0-8836-40dc-bf01-792a4151f523",
   "metadata": {},
   "source": [
    "## Setting up a linecut - Method 2"
   ]
  },
  {
   "cell_type": "markdown",
   "id": "40b7dbf9-4ec6-4092-9ff4-215266934511",
   "metadata": {},
   "source": [
    "...or you can set them one by one after initializing the object."
   ]
  },
  {
   "cell_type": "code",
   "execution_count": 4,
   "id": "cbd72fd2-003e-4c31-a2d1-5a3409129c60",
   "metadata": {},
   "outputs": [],
   "source": [
    "scissors = Scissors()"
   ]
  },
  {
   "cell_type": "code",
   "execution_count": 5,
   "id": "304a299d-196f-4da8-b952-f20fdcca9eec",
   "metadata": {},
   "outputs": [
    {
     "name": "stdout",
     "output_type": "stream",
     "text": [
      "data:NXdata\n",
      "  @axes = ['H', 'K', 'L']\n",
      "  @signal = 'counts'\n",
      "  H = float64(100)\n",
      "  K = float64(150)\n",
      "  L = float64(200)\n",
      "  counts = float64(100x150x200)\n"
     ]
    }
   ],
   "source": [
    "scissors.set_data(data)"
   ]
  },
  {
   "cell_type": "code",
   "execution_count": 6,
   "id": "d2c8761d-8ec5-4e65-b3ee-1adf3d7261b7",
   "metadata": {},
   "outputs": [],
   "source": [
    "scissors.set_center((0,0,0))"
   ]
  },
  {
   "cell_type": "code",
   "execution_count": 10,
   "id": "67351fbb-2276-4e59-b7d7-6d9fa5ff0121",
   "metadata": {},
   "outputs": [],
   "source": [
    "scissors.set_window((0.1,0.2,1))"
   ]
  },
  {
   "cell_type": "markdown",
   "id": "26b929e8-88d1-49a9-a2ce-88910b3b228d",
   "metadata": {},
   "source": [
    "## Visualizing the integration window"
   ]
  },
  {
   "cell_type": "markdown",
   "id": "7dd7353c-47a4-4147-92f5-88136f3ec2e7",
   "metadata": {},
   "source": [
    "The `.integration_window` attribute stores a `tuple` of `slice` objects over which the integration was performed."
   ]
  },
  {
   "cell_type": "code",
   "execution_count": 8,
   "id": "b2dd9c1c-c777-4d32-acf4-2892879aaa53",
   "metadata": {},
   "outputs": [],
   "source": [
    "scissors.integration_window"
   ]
  },
  {
   "cell_type": "markdown",
   "id": "987de6f9-2595-4419-afa2-cfae1e8c6735",
   "metadata": {},
   "source": [
    "To show where the integration was performed, use the `.show_integration_window()` method."
   ]
  },
  {
   "cell_type": "code",
   "execution_count": 9,
   "id": "094d1bb6-0e9c-4066-a681-6eebfd206a6e",
   "metadata": {},
   "outputs": [
    {
     "ename": "TypeError",
     "evalue": "tuple indices must be integers or slices, not NoneType",
     "output_type": "error",
     "traceback": [
      "\u001b[1;31m---------------------------------------------------------------------------\u001b[0m",
      "\u001b[1;31mTypeError\u001b[0m                                 Traceback (most recent call last)",
      "Cell \u001b[1;32mIn[9], line 1\u001b[0m\n\u001b[1;32m----> 1\u001b[0m \u001b[43mscissors\u001b[49m\u001b[38;5;241;43m.\u001b[39;49m\u001b[43mshow_integration_window\u001b[49m\u001b[43m(\u001b[49m\u001b[43m)\u001b[49m\n",
      "File \u001b[1;32m~\\miniconda3\\lib\\site-packages\\nxs_analysis_tools\\datareduction.py:453\u001b[0m, in \u001b[0;36mScissors.show_integration_window\u001b[1;34m(self, label)\u001b[0m\n\u001b[0;32m    451\u001b[0m \u001b[38;5;66;03m# Plot cross section 1\u001b[39;00m\n\u001b[0;32m    452\u001b[0m slice_obj \u001b[38;5;241m=\u001b[39m [\u001b[38;5;28mslice\u001b[39m(\u001b[38;5;28;01mNone\u001b[39;00m)]\u001b[38;5;241m*\u001b[39mdata\u001b[38;5;241m.\u001b[39mndim\n\u001b[1;32m--> 453\u001b[0m slice_obj[axis] \u001b[38;5;241m=\u001b[39m \u001b[43mcenter\u001b[49m\u001b[43m[\u001b[49m\u001b[43maxis\u001b[49m\u001b[43m]\u001b[49m\n\u001b[0;32m    455\u001b[0m p1 \u001b[38;5;241m=\u001b[39m plot_slice(data[slice_obj],\n\u001b[0;32m    456\u001b[0m                X\u001b[38;5;241m=\u001b[39mdata[data\u001b[38;5;241m.\u001b[39maxes[integrated_axes[\u001b[38;5;241m0\u001b[39m]]],\n\u001b[0;32m    457\u001b[0m                Y\u001b[38;5;241m=\u001b[39mdata[data\u001b[38;5;241m.\u001b[39maxes[integrated_axes[\u001b[38;5;241m1\u001b[39m]]],\n\u001b[0;32m    458\u001b[0m                vmin\u001b[38;5;241m=\u001b[39m\u001b[38;5;241m1\u001b[39m, logscale\u001b[38;5;241m=\u001b[39m\u001b[38;5;28;01mTrue\u001b[39;00m)\n\u001b[0;32m    459\u001b[0m ax \u001b[38;5;241m=\u001b[39m plt\u001b[38;5;241m.\u001b[39mgca()\n",
      "\u001b[1;31mTypeError\u001b[0m: tuple indices must be integers or slices, not NoneType"
     ]
    }
   ],
   "source": [
    "scissors.show_integration_window()"
   ]
  },
  {
   "cell_type": "markdown",
   "id": "81b48112-5e5e-4a56-b370-6002a60f6c23",
   "metadata": {},
   "source": [
    "## Performing a linecut"
   ]
  },
  {
   "cell_type": "markdown",
   "id": "e1dc29a5-210e-418d-8c4f-e17cfb1bd90b",
   "metadata": {},
   "source": [
    "You can use `.cut_data()` to perform the cut, returning an `NXdata` object."
   ]
  },
  {
   "cell_type": "code",
   "execution_count": null,
   "id": "61f76924-0ab5-45d8-be1f-bc9a8e7ff61f",
   "metadata": {},
   "outputs": [],
   "source": [
    "linecut = scissors.cut_data()"
   ]
  },
  {
   "cell_type": "markdown",
   "id": "bda35e2b-0821-4383-a2d6-483f98115b26",
   "metadata": {},
   "source": [
    "## Plotting a linecut"
   ]
  },
  {
   "cell_type": "markdown",
   "id": "80ec0b01-2229-43b4-9c0a-6b36af546288",
   "metadata": {},
   "source": [
    "The `.plot()` method of the NXdata object can be used to generate a basic plot of the linecut."
   ]
  },
  {
   "cell_type": "code",
   "execution_count": null,
   "id": "fe67344e-f80a-46c7-bf67-1c664f555fe6",
   "metadata": {},
   "outputs": [],
   "source": [
    "linecut.plot()"
   ]
  }
 ],
 "metadata": {
  "kernelspec": {
   "display_name": "Python 3 (ipykernel)",
   "language": "python",
   "name": "python3"
  },
  "language_info": {
   "codemirror_mode": {
    "name": "ipython",
    "version": 3
   },
   "file_extension": ".py",
   "mimetype": "text/x-python",
   "name": "python",
   "nbconvert_exporter": "python",
   "pygments_lexer": "ipython3",
   "version": "3.10.10"
  }
 },
 "nbformat": 4,
 "nbformat_minor": 5
}
