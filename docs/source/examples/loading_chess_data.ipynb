{
 "cells": [
  {
   "cell_type": "markdown",
   "id": "b4f77fd8-335a-440e-a11a-dffa18ca4846",
   "metadata": {},
   "source": [
    "# Loading CHESS data"
   ]
  },
  {
   "cell_type": "markdown",
   "id": "4efa5a19-c8cc-479c-bcfb-9dce20c5d520",
   "metadata": {},
   "source": [
    "Scattering datasets (HKLI files) from CHESS typically come in one of two forms. The most common (updated) format is the data format used in the `nxrefine` software ([link](https://github.com/nexpy/nxrefine)), and the less common (outdated) format is the data format obtained from the old orientation matrix code used at the beamline prior to ~2023."
   ]
  },
  {
   "cell_type": "markdown",
   "id": "76992306-951e-46f6-bb8a-69c8f7afe9c7",
   "metadata": {},
   "source": [
    "## Format 1: Data from nxrefine"
   ]
  },
  {
   "cell_type": "markdown",
   "id": "0d5eef16-9454-4206-8580-e441a7928564",
   "metadata": {},
   "source": [
    "The output file structure from nxrefine should look something like the following:\n",
    "```\n",
    "experimentname\n",
    "└── nxrefine\n",
    "    └── filename\n",
    "        └── samplename\n",
    "            ├── 15\n",
    "            |    └── transform.nxs\n",
    "            ├── 100\n",
    "            |    └── transform.nxs\n",
    "            ├── 300\n",
    "            |    └── transform.nxs\n",
    "            ├── filename_15.nxs\n",
    "            ├── filename_100.nxs\n",
    "            └── filename_300.nxs\n",
    "``` \n",
    "\n",
    "The file that we are interested in loading is the .nxs file with the form `filename_15.nxs`, which holds information about the scan at _T_ = 15 K. This file has an `NXlink` which references the raw data array which is contained in the file `15/transform.nxs`. In other words, `filename_15.nxs` contains sample metadata such as the orientation matrix, temperature, ion chamber counts, etc. and the file `transform.nxs` is simply an array-like container for the pixels that make up the oriented HKLI data.\n",
    "\n",
    "TL;DR -- we want to load the file `filename_15.nxs`, not the `transform.nxs` file.\n",
    "\n",
    "We can accomplish that using the `load_transform()` function in `nxs_analysis_tools` as follows:"
   ]
  },
  {
   "cell_type": "code",
   "execution_count": 1,
   "id": "0150c593-076f-4993-b877-1c48be46af44",
   "metadata": {},
   "outputs": [],
   "source": [
    "from nxs_analysis_tools.datareduction import load_transform\n",
    "\n",
    "data = load_transform('example_data/nxrefine/CsV3Sb5/sample_1a/CsV3Sb5_15.nxs')"
   ]
  },
  {
   "cell_type": "markdown",
   "id": "7471c7d4-4f88-4713-ba75-a1074aa01d5c",
   "metadata": {},
   "source": [
    "Using the `plot_slice()` function, we can now visualize various slices of reciprocal space. Here, we visualize the HK0 plane."
   ]
  },
  {
   "cell_type": "code",
   "execution_count": 2,
   "id": "da9e2b9a-9c1e-46ed-9565-bd6f0cb782f6",
   "metadata": {},
   "outputs": [
    {
     "ename": "NameError",
     "evalue": "name 'plot_slice' is not defined",
     "output_type": "error",
     "traceback": [
      "\u001b[1;31m---------------------------------------------------------------------------\u001b[0m",
      "\u001b[1;31mNameError\u001b[0m                                 Traceback (most recent call last)",
      "Cell \u001b[1;32mIn[2], line 1\u001b[0m\n\u001b[1;32m----> 1\u001b[0m plot_slice(data[:,:,\u001b[38;5;241m0.0\u001b[39m])\n",
      "\u001b[1;31mNameError\u001b[0m: name 'plot_slice' is not defined"
     ]
    }
   ],
   "source": [
    "from nxs_analysis_tools.datareduction import load_transform\n",
    "\n",
    "plot_slice(data[:,:,0.0])"
   ]
  },
  {
   "cell_type": "markdown",
   "id": "159248e4-a5ea-4a9d-80ae-5b4c9905f3b5",
   "metadata": {},
   "source": [
    "## Format 2: Legacy data (`3rot_hkli.nxs` files)"
   ]
  },
  {
   "cell_type": "markdown",
   "id": "abbc50b7-a2a3-4fd1-840e-9ecc780f6190",
   "metadata": {},
   "source": [
    "The output file structure from the legacy CHESS processing code looks something like:\n",
    "```\n",
    "experimentname\n",
    "└── filename\n",
    "    └── samplename\n",
    "        ├── 15\n",
    "        |   └── 3rot_hkli.nxs\n",
    "        ├── 100\n",
    "        |   └── 3rot_hkli.nxs\n",
    "        └── 300\n",
    "            └── 3rot_hkli.nxs\n",
    "``` \n",
    "\n",
    "To load this data format, we can use the `load_data()` function as follows:"
   ]
  },
  {
   "cell_type": "code",
   "execution_count": null,
   "id": "aade5ae6-2f2a-4cfd-8a70-6812503c7930",
   "metadata": {},
   "outputs": [],
   "source": [
    "from nxs_analysis_tools.datareduction import load_data\n",
    "\n",
    "data = load_data('example_data/sample_name/15/example_hkli.nxs')"
   ]
  },
  {
   "cell_type": "markdown",
   "id": "7cf36776-cab4-40ea-bbd7-b1352393ec87",
   "metadata": {},
   "source": [
    "Using the `plot_slice()` function, we can now visualize various slices of reciprocal space. Here, we visualize the HK0 plane."
   ]
  },
  {
   "cell_type": "code",
   "execution_count": null,
   "id": "755a8c72-2415-4e8e-a060-8c746d6cab51",
   "metadata": {},
   "outputs": [],
   "source": [
    "plot_slice(data[:,:,0.0])"
   ]
  },
  {
   "cell_type": "code",
   "execution_count": null,
   "id": "2d30247d-35fa-400b-91c7-1e0d64931568",
   "metadata": {},
   "outputs": [],
   "source": []
  }
 ],
 "metadata": {
  "kernelspec": {
   "display_name": "Python 3 (ipykernel)",
   "language": "python",
   "name": "python3"
  },
  "language_info": {
   "codemirror_mode": {
    "name": "ipython",
    "version": 3
   },
   "file_extension": ".py",
   "mimetype": "text/x-python",
   "name": "python",
   "nbconvert_exporter": "python",
   "pygments_lexer": "ipython3",
   "version": "3.11.3"
  }
 },
 "nbformat": 4,
 "nbformat_minor": 5
}
